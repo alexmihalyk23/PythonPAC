{
 "cells": [
  {
   "cell_type": "code",
   "execution_count": 53,
   "id": "ff310a88-dc51-463d-af26-49ec0ffdad11",
   "metadata": {},
   "outputs": [
    {
     "name": "stdin",
     "output_type": "stream",
     "text": [
      "Введи слово:  шалаш\n"
     ]
    },
    {
     "name": "stdout",
     "output_type": "stream",
     "text": [
      "Полиндром\n"
     ]
    }
   ],
   "source": [
    "string = input(\"Введи слово: \")\n",
    "\n",
    "if(string == string[::-1]):\n",
    "\tprint(\"Полиндром\")\n",
    "else:\n",
    "\tprint(\"Не Полиндром\")"
   ]
  },
  {
   "cell_type": "code",
   "execution_count": 59,
   "id": "e9d034e3-7e52-4be2-96c9-b3f81b786b71",
   "metadata": {},
   "outputs": [
    {
     "name": "stdin",
     "output_type": "stream",
     "text": [
      "Введи слова разделенные пробелом:  кквв апп пппку\n"
     ]
    },
    {
     "name": "stdout",
     "output_type": "stream",
     "text": [
      "пппку\n"
     ]
    }
   ],
   "source": [
    "string1 = input(\"Введи слова разделенные пробелом: \")\n",
    "arr = string1.split(\" \")\n",
    "# a = 0\n",
    "# b=0\n",
    "# for i in range(len(arr)):\n",
    "# \tif(len(arr[i]) > a):\n",
    "# \t\ta = len(arr[i])\n",
    "# \t\tb = i\n",
    "\n",
    "# print(a, arr[b])\n",
    "maxlen = max((word for word in arr), key=len)\n",
    "print(maxlen)"
   ]
  },
  {
   "cell_type": "code",
   "execution_count": 55,
   "id": "eb2caaa9-f0ca-4b66-8029-6bc91d3beb30",
   "metadata": {},
   "outputs": [
    {
     "name": "stdout",
     "output_type": "stream",
     "text": [
      "[9, 8, 7, 3, 7, 6, 4, 5, 5, 10]\n",
      "4 6\n"
     ]
    }
   ],
   "source": [
    "\n",
    "import random\n",
    "arr = []\n",
    "n = random.randint(1, 10)\n",
    "chet =0\n",
    "nechet = 0\n",
    "for i in range(n):\n",
    "\tarr.append(random.randint(1, 10))\n",
    "\tif(arr[i]%2==0):\n",
    "\t\tchet +=1\n",
    "\telse:\n",
    "\t\tnechet +=1\n",
    "print(arr)\n",
    "print(chet, nechet)\n"
   ]
  },
  {
   "cell_type": "code",
   "execution_count": 56,
   "id": "97e7d105-4a67-4d84-8533-26b049fc0baa",
   "metadata": {},
   "outputs": [
    {
     "name": "stdout",
     "output_type": "stream",
     "text": [
      "Я имею цвета киновари сверх массивный прекрасный телефон.\n"
     ]
    }
   ],
   "source": [
    "def zamenit_words(sting, dictionary):\n",
    "    words = sting.split()\n",
    "    new_sting = []\n",
    "    for word in words:\n",
    "        if word in dictionary:\n",
    "            new_word = dictionary[word]\n",
    "            new_sting.append(new_word)\n",
    "        else:\n",
    "            new_sting.append(word)\n",
    "    return ' '.join(new_sting)\n",
    "\n",
    "dict = {\n",
    "    'красный': 'цвета киновари',\n",
    "    'на_любителя': 'сверх массивный',\n",
    "    'хороший': 'прекрасный'\n",
    "}\n",
    "\n",
    "sting = 'Я имею красный на_любителя хороший телефон.'\n",
    "new_sting = zamenit_words(sting, dict)\n",
    "print(new_sting)\n",
    "\n",
    "\n",
    "\n"
   ]
  },
  {
   "cell_type": "code",
   "execution_count": 57,
   "id": "633d311e-8119-48a3-b2f5-f4a8042af86c",
   "metadata": {},
   "outputs": [
    {
     "data": {
      "text/plain": [
       "6765"
      ]
     },
     "execution_count": 57,
     "metadata": {},
     "output_type": "execute_result"
    }
   ],
   "source": [
    "def fib(n):\n",
    "    return n if n <= 1  else fib(n-1) + fib(n-2)\n",
    "\n",
    "fib(20)"
   ]
  },
  {
   "cell_type": "code",
   "execution_count": 58,
   "id": "63d1bcc3-8819-4d02-884f-9e3f44632908",
   "metadata": {},
   "outputs": [
    {
     "name": "stdout",
     "output_type": "stream",
     "text": [
      "Количество строк: 6\n",
      " Количество слов: 11\n",
      " Количество буков: 56\n"
     ]
    }
   ],
   "source": [
    "stroki = 0\n",
    "words = 0\n",
    "symbols = 0\n",
    "with open(\"test.txt\", \"r\") as file:\n",
    "    for text in file:\n",
    "        stroki+=1\n",
    "        words +=  len(text.split())\n",
    "        symbols += len(text)\n",
    "print(f'Количество строк: {stroki}\\n Количество слов: {words}\\n Количество буков: {symbols}')"
   ]
  },
  {
   "cell_type": "code",
   "execution_count": 35,
   "id": "3d6b9f23-b8a0-4697-9fb7-de4168f50272",
   "metadata": {},
   "outputs": [
    {
     "name": "stdout",
     "output_type": "stream",
     "text": [
      "2\n",
      "6\n",
      "18\n",
      "54\n",
      "162\n"
     ]
    }
   ],
   "source": [
    "def geometric_progression(a, r):\n",
    "    while True:\n",
    "        yield a\n",
    "        a *= r\n",
    "\n",
    "progression = geometric_progression(2, 3)\n",
    "for i in range(5):\n",
    "    print(next(progression))"
   ]
  },
  {
   "cell_type": "code",
   "execution_count": null,
   "id": "46d7a0bd-13da-487b-8d67-91515bd1b877",
   "metadata": {},
   "outputs": [],
   "source": []
  }
 ],
 "metadata": {
  "kernelspec": {
   "display_name": "Python 3 (ipykernel)",
   "language": "python",
   "name": "python3"
  },
  "language_info": {
   "codemirror_mode": {
    "name": "ipython",
    "version": 3
   },
   "file_extension": ".py",
   "mimetype": "text/x-python",
   "name": "python",
   "nbconvert_exporter": "python",
   "pygments_lexer": "ipython3",
   "version": "3.8.10"
  }
 },
 "nbformat": 4,
 "nbformat_minor": 5
}
